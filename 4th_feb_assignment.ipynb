{
 "cells": [
  {
   "cell_type": "code",
   "execution_count": 1,
   "id": "35147589-c189-45c6-964b-cdba4d8f07e2",
   "metadata": {},
   "outputs": [
    {
     "data": {
      "text/plain": [
       "[1, 4, 9, 16, 25, 36, 49, 64, 81, 100]"
      ]
     },
     "execution_count": 1,
     "metadata": {},
     "output_type": "execute_result"
    }
   ],
   "source": [
    "# Question number 2\n",
    "l = [1,2,3,4,5,6,7,8,9,10]\n",
    "list(map(lambda x:x**2, l))"
   ]
  },
  {
   "cell_type": "code",
   "execution_count": 6,
   "id": "5a904c12-f199-47ed-99e7-868edbeac64d",
   "metadata": {},
   "outputs": [
    {
     "data": {
      "text/plain": [
       "((1,), (2,), (3,), (4,), (5,), (6,), (7,), (8,), (9,), (10,))"
      ]
     },
     "execution_count": 6,
     "metadata": {},
     "output_type": "execute_result"
    }
   ],
   "source": [
    "# Question number 3\n",
    "tuple(map(lambda *x:x, l))"
   ]
  },
  {
   "cell_type": "code",
   "execution_count": 9,
   "id": "cbf601fe-0a2b-445f-9f35-02af4f94d442",
   "metadata": {},
   "outputs": [],
   "source": [
    "# Question number 4\n",
    "l1 = []\n",
    "for i in range(1,26) :\n",
    "    l1.append(i)"
   ]
  },
  {
   "cell_type": "code",
   "execution_count": 10,
   "id": "b0fb56ba-720f-4894-9358-3181bcb91eb8",
   "metadata": {},
   "outputs": [
    {
     "data": {
      "text/plain": [
       "[1,\n",
       " 2,\n",
       " 3,\n",
       " 4,\n",
       " 5,\n",
       " 6,\n",
       " 7,\n",
       " 8,\n",
       " 9,\n",
       " 10,\n",
       " 11,\n",
       " 12,\n",
       " 13,\n",
       " 14,\n",
       " 15,\n",
       " 16,\n",
       " 17,\n",
       " 18,\n",
       " 19,\n",
       " 20,\n",
       " 21,\n",
       " 22,\n",
       " 23,\n",
       " 24,\n",
       " 25]"
      ]
     },
     "execution_count": 10,
     "metadata": {},
     "output_type": "execute_result"
    }
   ],
   "source": [
    "l1"
   ]
  },
  {
   "cell_type": "code",
   "execution_count": 12,
   "id": "f8c50099-a992-41ae-bb52-4a8ded1d1d29",
   "metadata": {},
   "outputs": [],
   "source": [
    "from functools  import reduce"
   ]
  },
  {
   "cell_type": "code",
   "execution_count": 14,
   "id": "70b1cfeb-63ad-4139-ac7f-4a4fe1af2124",
   "metadata": {},
   "outputs": [
    {
     "data": {
      "text/plain": [
       "15511210043330985984000000"
      ]
     },
     "execution_count": 14,
     "metadata": {},
     "output_type": "execute_result"
    }
   ],
   "source": [
    "reduce(lambda x,y:x*y, l1)"
   ]
  },
  {
   "cell_type": "code",
   "execution_count": 28,
   "id": "de765879-db8c-46ba-b0aa-c59156c3ae37",
   "metadata": {},
   "outputs": [
    {
     "data": {
      "text/plain": [
       "[6, 60, 90, 120]"
      ]
     },
     "execution_count": 28,
     "metadata": {},
     "output_type": "execute_result"
    }
   ],
   "source": [
    "# Question number 5\n",
    "l2 = [2,3,6,27,60,90,120,55,46]\n",
    "list(filter(lambda x : x%3==0 and  x%2==0  , l2))"
   ]
  },
  {
   "cell_type": "code",
   "execution_count": 24,
   "id": "c827162d-b58a-47dc-bfcd-5e81369ed7d3",
   "metadata": {},
   "outputs": [],
   "source": [
    "# Question number 1\n",
    "l4 = [('Sachin Tendulkar', 34357), ('Ricky Ponting', 27483), ('Jack Kallis', 25534), ('Virat Kohli', 24936)]"
   ]
  },
  {
   "cell_type": "code",
   "execution_count": 27,
   "id": "1af3d90a-859c-4e26-9001-7726afefedc0",
   "metadata": {},
   "outputs": [
    {
     "ename": "SyntaxError",
     "evalue": "invalid syntax (913434533.py, line 1)",
     "output_type": "error",
     "traceback": [
      "\u001b[0;36m  Cell \u001b[0;32mIn[27], line 1\u001b[0;36m\u001b[0m\n\u001b[0;31m    [len(l4) lambda for i in range(len(l4))]\u001b[0m\n\u001b[0m             ^\u001b[0m\n\u001b[0;31mSyntaxError\u001b[0m\u001b[0;31m:\u001b[0m invalid syntax\n"
     ]
    }
   ],
   "source": [
    "[len(l4) lambda for i in range(len(l4))]\n",
    "\n"
   ]
  },
  {
   "cell_type": "code",
   "execution_count": null,
   "id": "f43a662b-9639-43c6-a343-2e37323c5394",
   "metadata": {},
   "outputs": [],
   "source": []
  }
 ],
 "metadata": {
  "kernelspec": {
   "display_name": "Python 3 (ipykernel)",
   "language": "python",
   "name": "python3"
  },
  "language_info": {
   "codemirror_mode": {
    "name": "ipython",
    "version": 3
   },
   "file_extension": ".py",
   "mimetype": "text/x-python",
   "name": "python",
   "nbconvert_exporter": "python",
   "pygments_lexer": "ipython3",
   "version": "3.10.8"
  }
 },
 "nbformat": 4,
 "nbformat_minor": 5
}
